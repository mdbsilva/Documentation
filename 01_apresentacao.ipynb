{
 "cells": [
  {
   "cell_type": "markdown",
   "metadata": {},
   "source": [
    "# Apresentando o Python\n",
    "\n",
    "Python é uma linguagem de programação popular criada por Guido van Rossum em 1991. É amplamente utilizado em diversas áreas, incluindo desenvolvimento web (server-side), desenvolvimento de software, matemática e script do sistema.\n",
    "\n",
    "Python pode ser usado para criar aplicações web em servidores, desenvolver fluxos de trabalho em conjunto com outros softwares, conectar-se a sistemas de banco de dados, manipular arquivos, lidar com big data, realizar matemática complexa, prototipagem rápida e desenvolvimento de software pronto para produção.\n",
    "\n",
    "Algumas razões para escolher Python incluem sua capacidade de funcionar em diferentes plataformas, sua sintaxe simples e legível, sua capacidade de escrever programas com menos linhas de código em comparação com outras linguagens, sua execução rápida devido ao sistema interpretador e sua capacidade de ser tratado de forma processual, orientada a objetos ou funcional.\n",
    "\n",
    "A versão principal mais recente é o Python 3, embora o Python 2 ainda seja popular. Python pode ser escrito em editores de texto ou em Ambientes de Desenvolvimento Integrado (IDEs) como Thonny, PyCharm, NetBeans ou Eclipse.\n",
    "\n",
    "A sintaxe de Python é projetada para legibilidade e usa novas linhas para completar um comando. Ela também depende de recuo (espaço em branco) para definir o escopo, como o escopo de loops, funções e classes, ao contrário de outras linguagens que geralmente usam colchetes para essa finalidade.\n",
    "\n",
    "O Python pode já estar instalado em muitos PCs e Macs. Para verificar se está instalado, siga estas instruções:\n",
    "\n",
    "- No Windows, procure por Python na barra de busca ou execute `python --version` no prompt de comando (cmd.exe).\n",
    "- No Linux ou Mac, abra o Terminal e digite `python --version`.\n",
    "\n",
    "Se não estiver instalado, você pode baixá-lo gratuitamente no site oficial python.org.\n",
    "\n",
    "Para começar a programar em Python, siga este guia rápido:\n",
    "\n",
    "1. Escreva seu código Python em um arquivo de texto (com extensão .py).\n",
    "2. Execute o arquivo Python no interpretador Python.\n",
    "\n",
    "Por exemplo, vamos criar um arquivo chamado \"helloworld.py\" com o seguinte conteúdo:\n",
    "\n",
    "```python\n",
    "print(\"Hello, World!\")\n",
    "```\n",
    "\n",
    "Salve o arquivo e execute-o no prompt de comando (cmd.exe ou Terminal):\n",
    "\n",
    "```\n",
    "python helloworld.py\n",
    "```\n",
    "\n",
    "Você deve ver a saída:\n",
    "\n",
    "```\n",
    "Hello, World!\n",
    "```\n",
    "\n",
    "Parabéns! Você escreveu e executou seu primeiro programa Python."
   ]
  }
 ],
 "metadata": {
  "language_info": {
   "name": "python"
  }
 },
 "nbformat": 4,
 "nbformat_minor": 2
}
